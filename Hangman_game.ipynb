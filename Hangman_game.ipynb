{
 "cells": [
  {
   "cell_type": "code",
   "execution_count": 1,
   "metadata": {},
   "outputs": [],
   "source": [
    "import random,sys\n",
    "words_5 = (\"apple\", \"banana\", \"grapes\", \"mango\", \"melon\", \"orange\", \"peach\", \"pear\", \"plum\", \"prune\" , \"strawberry\" , \"pineapple\", \"lychee\", \"kiwi\", \"apricot\", \"avocado\", \"blackberry\", \"blueberry\", \"cherry\", \"coconut\", \"cranberry\", \"currant\", \"date\", \"fig\", \"gooseberry\", \"guava\", \"lemon\", \"lime\", \"loquat\", \"lychee\", \"mandarin\", \"nectarine\", \"papaya\", \"passionfruit\", \"peach\", \"persimmon\", \"pomegranate\", \"raspberry\", \"tangerine\", \"watermelon\")"
   ]
  },
  {
   "cell_type": "code",
   "execution_count": 6,
   "metadata": {},
   "outputs": [
    {
     "name": "stdout",
     "output_type": "stream",
     "text": [
      "Hello Ramanathan!, I have a 10 letter word in my mind and you have to guess it.\n",
      "You have 12 chances to guess the word. Good luck!\n",
      "HINT: word is a name of a fruit\n",
      "_ _ _ _ _ _ _ _ _ _ \n",
      "good guess! _ _ _ a _ _ _ _ _ _ \n",
      "Sorry, wrong guess!,You have  11  chances left.\n",
      "_ _ _ a _ _ _ _ _ _ \n",
      "Sorry, wrong guess!,You have  10  chances left.\n",
      "_ _ _ a _ _ _ _ _ _ \n",
      "good guess! _ _ _ a _ _ e _ _ _ \n",
      "Sorry, wrong guess!,You have  9  chances left.\n",
      "_ _ _ a _ _ e _ _ _ \n",
      "Sorry, wrong guess!,You have  8  chances left.\n",
      "_ _ _ a _ _ e _ _ _ \n",
      "Sorry, wrong guess!,You have  7  chances left.\n",
      "_ _ _ a _ _ e _ _ _ \n",
      "good guess! _ t _ a _ _ e _ _ _ \n",
      "Sorry, wrong guess!,You have  6  chances left.\n",
      "_ t _ a _ _ e _ _ _ \n",
      "good guess! _ t r a _ _ e r r _ \n",
      "good guess! s t r a _ _ e r r _ \n",
      "good guess! s t r a w _ e r r _ \n",
      "good guess! s t r a w b e r r _ \n",
      "good guess! s t r a w b e r r y \n",
      "Congratulations! You have guessed the word correctly!\n"
     ]
    }
   ],
   "source": [
    "stranger_name = input(\"Hey there, what's your name? \")\n",
    "word_in_mind = random.choice(words_5)\n",
    "max_guesses = len(word_in_mind) + 2\n",
    "word_output = ['_'] * len(word_in_mind) \n",
    "print(f'Hello {stranger_name}!, I have a {len(word_in_mind)} letter word in my mind and you have to guess it.\\nYou have {max_guesses} chances to guess the word. Good luck!\\nHINT: word is a name of a fruit')\n",
    "#sys.stdout.flush()\n",
    "#print(word_in_mind)\n",
    "sys.stdout.flush()\n",
    "for each in word_output:\n",
    "    print(each, end = \" \")\n",
    "sys.stdout.flush()\n",
    "while (max_guesses > 0): \n",
    "    try:\n",
    "        guess_char = str(input(\"Enter a letter to guess:  \"))\n",
    "    except ValueError:\n",
    "        print(\"Please enter a valid character\")\n",
    "    if guess_char in word_in_mind:\n",
    "        print(\"\\ngood guess!\",end = \" \")\n",
    "        for guess_char_index in [i for i in range(len(word_in_mind)) if word_in_mind[i] == guess_char]:\n",
    "        #guess_char_index = word_in_mind.index(guess_char)\n",
    "            word_output[guess_char_index] = guess_char\n",
    "        for each in word_output:\n",
    "            print(each, end = \" \")\n",
    "    else:\n",
    "        max_guesses -= 1\n",
    "        print(\"\\nSorry, wrong guess!,You have \", max_guesses, \" chances left.\")\n",
    "        for each in word_output:\n",
    "            print(each, end = \" \")\n",
    "    if '_' not in word_output:\n",
    "        print(\"\\nCongratulations! You have guessed the word correctly!\")\n",
    "        break\n",
    "    \n",
    "else: \n",
    "    print(\"You have exhausted all your chances. The word was: \", word_in_mind)\n",
    "    print(\"Better luck next time!\")"
   ]
  }
 ],
 "metadata": {
  "kernelspec": {
   "display_name": "Python 3",
   "language": "python",
   "name": "python3"
  },
  "language_info": {
   "codemirror_mode": {
    "name": "ipython",
    "version": 3
   },
   "file_extension": ".py",
   "mimetype": "text/x-python",
   "name": "python",
   "nbconvert_exporter": "python",
   "pygments_lexer": "ipython3",
   "version": "3.9.6"
  }
 },
 "nbformat": 4,
 "nbformat_minor": 2
}
